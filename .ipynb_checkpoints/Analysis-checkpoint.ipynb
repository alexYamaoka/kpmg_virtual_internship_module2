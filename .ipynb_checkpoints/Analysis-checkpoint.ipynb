{
 "cells": [
  {
   "cell_type": "code",
   "execution_count": 1,
   "metadata": {},
   "outputs": [],
   "source": [
    "import pandas as pd\n",
    "import numpy as np"
   ]
  },
  {
   "cell_type": "code",
   "execution_count": 2,
   "metadata": {},
   "outputs": [],
   "source": [
    "transactions_file = \"/Users/ryotayamaoka/Desktop/kpmg_mod2/cleaned_transactions.csv\"\n",
    "customer_dem_file = \"/Users/ryotayamaoka/Desktop/kpmg_mod2/cleaned_customer_demographic.csv\"\n",
    "customer_addr_file = \"/Users/ryotayamaoka/Desktop/kpmg_mod2/cleaned_customer_address.csv\"\n",
    "new_customer_file = \"/Users/ryotayamaoka/Desktop/kpmg_mod2/cleaned_new_customer_list.csv\""
   ]
  },
  {
   "cell_type": "code",
   "execution_count": 3,
   "metadata": {},
   "outputs": [],
   "source": [
    "df_transactions = pd.read_csv(transactions_file)\n",
    "df_customer_dem = pd.read_csv(customer_dem_file)\n",
    "df_customer_addr = pd.read_csv(customer_addr_file)\n",
    "df_new_customer = pd.read_csv(new_customer_file)"
   ]
  },
  {
   "cell_type": "code",
   "execution_count": null,
   "metadata": {},
   "outputs": [],
   "source": []
  },
  {
   "cell_type": "code",
   "execution_count": 4,
   "metadata": {},
   "outputs": [],
   "source": [
    "%%capture\n",
    "! pip install seaborn"
   ]
  },
  {
   "cell_type": "code",
   "execution_count": 5,
   "metadata": {},
   "outputs": [],
   "source": [
    "import matplotlib.pyplot as plt\n",
    "import seaborn as sns\n",
    "%matplotlib inline "
   ]
  },
  {
   "cell_type": "code",
   "execution_count": null,
   "metadata": {},
   "outputs": [],
   "source": []
  },
  {
   "cell_type": "code",
   "execution_count": 6,
   "metadata": {},
   "outputs": [
    {
     "data": {
      "text/plain": [
       "transaction_id               int64\n",
       "product_id                   int64\n",
       "customer_id                  int64\n",
       "transaction_date            object\n",
       "online_order                object\n",
       "order_status                object\n",
       "brand                       object\n",
       "product_line                object\n",
       "product_class               object\n",
       "product_size                object\n",
       "list_price                 float64\n",
       "standard_cost              float64\n",
       "product_first_sold_date      int64\n",
       "dtype: object"
      ]
     },
     "execution_count": 6,
     "metadata": {},
     "output_type": "execute_result"
    }
   ],
   "source": [
    "df_transactions.dtypes"
   ]
  },
  {
   "cell_type": "code",
   "execution_count": 7,
   "metadata": {},
   "outputs": [
    {
     "data": {
      "text/html": [
       "<div>\n",
       "<style scoped>\n",
       "    .dataframe tbody tr th:only-of-type {\n",
       "        vertical-align: middle;\n",
       "    }\n",
       "\n",
       "    .dataframe tbody tr th {\n",
       "        vertical-align: top;\n",
       "    }\n",
       "\n",
       "    .dataframe thead th {\n",
       "        text-align: right;\n",
       "    }\n",
       "</style>\n",
       "<table border=\"1\" class=\"dataframe\">\n",
       "  <thead>\n",
       "    <tr style=\"text-align: right;\">\n",
       "      <th></th>\n",
       "      <th>transaction_id</th>\n",
       "      <th>product_id</th>\n",
       "      <th>customer_id</th>\n",
       "      <th>list_price</th>\n",
       "      <th>standard_cost</th>\n",
       "      <th>product_first_sold_date</th>\n",
       "    </tr>\n",
       "  </thead>\n",
       "  <tbody>\n",
       "    <tr>\n",
       "      <td>transaction_id</td>\n",
       "      <td>1.000000</td>\n",
       "      <td>-0.011486</td>\n",
       "      <td>0.001753</td>\n",
       "      <td>-0.006154</td>\n",
       "      <td>-0.003736</td>\n",
       "      <td>-0.006114</td>\n",
       "    </tr>\n",
       "    <tr>\n",
       "      <td>product_id</td>\n",
       "      <td>-0.011486</td>\n",
       "      <td>1.000000</td>\n",
       "      <td>0.004278</td>\n",
       "      <td>0.090066</td>\n",
       "      <td>0.044318</td>\n",
       "      <td>0.085578</td>\n",
       "    </tr>\n",
       "    <tr>\n",
       "      <td>customer_id</td>\n",
       "      <td>0.001753</td>\n",
       "      <td>0.004278</td>\n",
       "      <td>1.000000</td>\n",
       "      <td>0.009306</td>\n",
       "      <td>0.005759</td>\n",
       "      <td>0.007366</td>\n",
       "    </tr>\n",
       "    <tr>\n",
       "      <td>list_price</td>\n",
       "      <td>-0.006154</td>\n",
       "      <td>0.090066</td>\n",
       "      <td>0.009306</td>\n",
       "      <td>1.000000</td>\n",
       "      <td>0.548425</td>\n",
       "      <td>0.038001</td>\n",
       "    </tr>\n",
       "    <tr>\n",
       "      <td>standard_cost</td>\n",
       "      <td>-0.003736</td>\n",
       "      <td>0.044318</td>\n",
       "      <td>0.005759</td>\n",
       "      <td>0.548425</td>\n",
       "      <td>1.000000</td>\n",
       "      <td>0.051299</td>\n",
       "    </tr>\n",
       "    <tr>\n",
       "      <td>product_first_sold_date</td>\n",
       "      <td>-0.006114</td>\n",
       "      <td>0.085578</td>\n",
       "      <td>0.007366</td>\n",
       "      <td>0.038001</td>\n",
       "      <td>0.051299</td>\n",
       "      <td>1.000000</td>\n",
       "    </tr>\n",
       "  </tbody>\n",
       "</table>\n",
       "</div>"
      ],
      "text/plain": [
       "                         transaction_id  product_id  customer_id  list_price  \\\n",
       "transaction_id                 1.000000   -0.011486     0.001753   -0.006154   \n",
       "product_id                    -0.011486    1.000000     0.004278    0.090066   \n",
       "customer_id                    0.001753    0.004278     1.000000    0.009306   \n",
       "list_price                    -0.006154    0.090066     0.009306    1.000000   \n",
       "standard_cost                 -0.003736    0.044318     0.005759    0.548425   \n",
       "product_first_sold_date       -0.006114    0.085578     0.007366    0.038001   \n",
       "\n",
       "                         standard_cost  product_first_sold_date  \n",
       "transaction_id               -0.003736                -0.006114  \n",
       "product_id                    0.044318                 0.085578  \n",
       "customer_id                   0.005759                 0.007366  \n",
       "list_price                    0.548425                 0.038001  \n",
       "standard_cost                 1.000000                 0.051299  \n",
       "product_first_sold_date       0.051299                 1.000000  "
      ]
     },
     "execution_count": 7,
     "metadata": {},
     "output_type": "execute_result"
    }
   ],
   "source": [
    "df_transactions.corr()"
   ]
  },
  {
   "cell_type": "code",
   "execution_count": null,
   "metadata": {},
   "outputs": [],
   "source": []
  },
  {
   "cell_type": "code",
   "execution_count": 8,
   "metadata": {},
   "outputs": [
    {
     "data": {
      "text/plain": [
       "customer_id                             int64\n",
       "first_name                             object\n",
       "last_name                              object\n",
       "gender                                 object\n",
       "past_3_years_bike_related_purchases     int64\n",
       "DOB                                    object\n",
       "job_title                              object\n",
       "job_industry_category                  object\n",
       "wealth_segment                         object\n",
       "deceased_indicator                     object\n",
       "owns_car                               object\n",
       "tenure                                  int64\n",
       "dtype: object"
      ]
     },
     "execution_count": 8,
     "metadata": {},
     "output_type": "execute_result"
    }
   ],
   "source": [
    "df_customer_dem.dtypes"
   ]
  },
  {
   "cell_type": "code",
   "execution_count": 9,
   "metadata": {},
   "outputs": [
    {
     "data": {
      "text/html": [
       "<div>\n",
       "<style scoped>\n",
       "    .dataframe tbody tr th:only-of-type {\n",
       "        vertical-align: middle;\n",
       "    }\n",
       "\n",
       "    .dataframe tbody tr th {\n",
       "        vertical-align: top;\n",
       "    }\n",
       "\n",
       "    .dataframe thead th {\n",
       "        text-align: right;\n",
       "    }\n",
       "</style>\n",
       "<table border=\"1\" class=\"dataframe\">\n",
       "  <thead>\n",
       "    <tr style=\"text-align: right;\">\n",
       "      <th></th>\n",
       "      <th>customer_id</th>\n",
       "      <th>past_3_years_bike_related_purchases</th>\n",
       "      <th>tenure</th>\n",
       "    </tr>\n",
       "  </thead>\n",
       "  <tbody>\n",
       "    <tr>\n",
       "      <td>customer_id</td>\n",
       "      <td>1.000000</td>\n",
       "      <td>-0.002529</td>\n",
       "      <td>-0.020840</td>\n",
       "    </tr>\n",
       "    <tr>\n",
       "      <td>past_3_years_bike_related_purchases</td>\n",
       "      <td>-0.002529</td>\n",
       "      <td>1.000000</td>\n",
       "      <td>0.000418</td>\n",
       "    </tr>\n",
       "    <tr>\n",
       "      <td>tenure</td>\n",
       "      <td>-0.020840</td>\n",
       "      <td>0.000418</td>\n",
       "      <td>1.000000</td>\n",
       "    </tr>\n",
       "  </tbody>\n",
       "</table>\n",
       "</div>"
      ],
      "text/plain": [
       "                                     customer_id  \\\n",
       "customer_id                             1.000000   \n",
       "past_3_years_bike_related_purchases    -0.002529   \n",
       "tenure                                 -0.020840   \n",
       "\n",
       "                                     past_3_years_bike_related_purchases  \\\n",
       "customer_id                                                    -0.002529   \n",
       "past_3_years_bike_related_purchases                             1.000000   \n",
       "tenure                                                          0.000418   \n",
       "\n",
       "                                       tenure  \n",
       "customer_id                         -0.020840  \n",
       "past_3_years_bike_related_purchases  0.000418  \n",
       "tenure                               1.000000  "
      ]
     },
     "execution_count": 9,
     "metadata": {},
     "output_type": "execute_result"
    }
   ],
   "source": [
    "df_customer_dem.corr()"
   ]
  },
  {
   "cell_type": "code",
   "execution_count": null,
   "metadata": {},
   "outputs": [],
   "source": []
  },
  {
   "cell_type": "code",
   "execution_count": 10,
   "metadata": {},
   "outputs": [
    {
     "data": {
      "text/plain": [
       "customer_id            int64\n",
       "address               object\n",
       "postcode               int64\n",
       "state                 object\n",
       "country               object\n",
       "property_valuation     int64\n",
       "dtype: object"
      ]
     },
     "execution_count": 10,
     "metadata": {},
     "output_type": "execute_result"
    }
   ],
   "source": [
    "df_customer_addr.dtypes"
   ]
  },
  {
   "cell_type": "code",
   "execution_count": 11,
   "metadata": {},
   "outputs": [
    {
     "data": {
      "text/html": [
       "<div>\n",
       "<style scoped>\n",
       "    .dataframe tbody tr th:only-of-type {\n",
       "        vertical-align: middle;\n",
       "    }\n",
       "\n",
       "    .dataframe tbody tr th {\n",
       "        vertical-align: top;\n",
       "    }\n",
       "\n",
       "    .dataframe thead th {\n",
       "        text-align: right;\n",
       "    }\n",
       "</style>\n",
       "<table border=\"1\" class=\"dataframe\">\n",
       "  <thead>\n",
       "    <tr style=\"text-align: right;\">\n",
       "      <th></th>\n",
       "      <th>customer_id</th>\n",
       "      <th>postcode</th>\n",
       "      <th>property_valuation</th>\n",
       "    </tr>\n",
       "  </thead>\n",
       "  <tbody>\n",
       "    <tr>\n",
       "      <td>customer_id</td>\n",
       "      <td>1.000000</td>\n",
       "      <td>0.011396</td>\n",
       "      <td>-0.012073</td>\n",
       "    </tr>\n",
       "    <tr>\n",
       "      <td>postcode</td>\n",
       "      <td>0.011396</td>\n",
       "      <td>1.000000</td>\n",
       "      <td>-0.508392</td>\n",
       "    </tr>\n",
       "    <tr>\n",
       "      <td>property_valuation</td>\n",
       "      <td>-0.012073</td>\n",
       "      <td>-0.508392</td>\n",
       "      <td>1.000000</td>\n",
       "    </tr>\n",
       "  </tbody>\n",
       "</table>\n",
       "</div>"
      ],
      "text/plain": [
       "                    customer_id  postcode  property_valuation\n",
       "customer_id            1.000000  0.011396           -0.012073\n",
       "postcode               0.011396  1.000000           -0.508392\n",
       "property_valuation    -0.012073 -0.508392            1.000000"
      ]
     },
     "execution_count": 11,
     "metadata": {},
     "output_type": "execute_result"
    }
   ],
   "source": [
    "df_customer_addr.corr()"
   ]
  },
  {
   "cell_type": "code",
   "execution_count": null,
   "metadata": {},
   "outputs": [],
   "source": []
  },
  {
   "cell_type": "code",
   "execution_count": 12,
   "metadata": {},
   "outputs": [
    {
     "data": {
      "text/plain": [
       "first_name                              object\n",
       "last_name                               object\n",
       "gender                                  object\n",
       "past_3_years_bike_related_purchases      int64\n",
       "DOB                                     object\n",
       "job_title                               object\n",
       "job_industry_category                   object\n",
       "wealth_segment                          object\n",
       "deceased_indicator                      object\n",
       "owns_car                                object\n",
       "tenure                                   int64\n",
       "address                                 object\n",
       "postcode                                 int64\n",
       "state                                   object\n",
       "country                                 object\n",
       "property_valuation                       int64\n",
       "Rank                                     int64\n",
       "Value                                  float64\n",
       "dtype: object"
      ]
     },
     "execution_count": 12,
     "metadata": {},
     "output_type": "execute_result"
    }
   ],
   "source": [
    "df_new_customer.dtypes"
   ]
  },
  {
   "cell_type": "code",
   "execution_count": 13,
   "metadata": {},
   "outputs": [
    {
     "data": {
      "text/html": [
       "<div>\n",
       "<style scoped>\n",
       "    .dataframe tbody tr th:only-of-type {\n",
       "        vertical-align: middle;\n",
       "    }\n",
       "\n",
       "    .dataframe tbody tr th {\n",
       "        vertical-align: top;\n",
       "    }\n",
       "\n",
       "    .dataframe thead th {\n",
       "        text-align: right;\n",
       "    }\n",
       "</style>\n",
       "<table border=\"1\" class=\"dataframe\">\n",
       "  <thead>\n",
       "    <tr style=\"text-align: right;\">\n",
       "      <th></th>\n",
       "      <th>past_3_years_bike_related_purchases</th>\n",
       "      <th>tenure</th>\n",
       "      <th>postcode</th>\n",
       "      <th>property_valuation</th>\n",
       "      <th>Rank</th>\n",
       "      <th>Value</th>\n",
       "    </tr>\n",
       "  </thead>\n",
       "  <tbody>\n",
       "    <tr>\n",
       "      <td>past_3_years_bike_related_purchases</td>\n",
       "      <td>1.000000</td>\n",
       "      <td>-0.034183</td>\n",
       "      <td>0.015208</td>\n",
       "      <td>-0.010833</td>\n",
       "      <td>-0.004392</td>\n",
       "      <td>0.004884</td>\n",
       "    </tr>\n",
       "    <tr>\n",
       "      <td>tenure</td>\n",
       "      <td>-0.034183</td>\n",
       "      <td>1.000000</td>\n",
       "      <td>0.030573</td>\n",
       "      <td>-0.014913</td>\n",
       "      <td>0.005546</td>\n",
       "      <td>-0.012257</td>\n",
       "    </tr>\n",
       "    <tr>\n",
       "      <td>postcode</td>\n",
       "      <td>0.015208</td>\n",
       "      <td>0.030573</td>\n",
       "      <td>1.000000</td>\n",
       "      <td>-0.496725</td>\n",
       "      <td>-0.050190</td>\n",
       "      <td>0.055851</td>\n",
       "    </tr>\n",
       "    <tr>\n",
       "      <td>property_valuation</td>\n",
       "      <td>-0.010833</td>\n",
       "      <td>-0.014913</td>\n",
       "      <td>-0.496725</td>\n",
       "      <td>1.000000</td>\n",
       "      <td>0.016385</td>\n",
       "      <td>-0.014700</td>\n",
       "    </tr>\n",
       "    <tr>\n",
       "      <td>Rank</td>\n",
       "      <td>-0.004392</td>\n",
       "      <td>0.005546</td>\n",
       "      <td>-0.050190</td>\n",
       "      <td>0.016385</td>\n",
       "      <td>1.000000</td>\n",
       "      <td>-0.984093</td>\n",
       "    </tr>\n",
       "    <tr>\n",
       "      <td>Value</td>\n",
       "      <td>0.004884</td>\n",
       "      <td>-0.012257</td>\n",
       "      <td>0.055851</td>\n",
       "      <td>-0.014700</td>\n",
       "      <td>-0.984093</td>\n",
       "      <td>1.000000</td>\n",
       "    </tr>\n",
       "  </tbody>\n",
       "</table>\n",
       "</div>"
      ],
      "text/plain": [
       "                                     past_3_years_bike_related_purchases  \\\n",
       "past_3_years_bike_related_purchases                             1.000000   \n",
       "tenure                                                         -0.034183   \n",
       "postcode                                                        0.015208   \n",
       "property_valuation                                             -0.010833   \n",
       "Rank                                                           -0.004392   \n",
       "Value                                                           0.004884   \n",
       "\n",
       "                                       tenure  postcode  property_valuation  \\\n",
       "past_3_years_bike_related_purchases -0.034183  0.015208           -0.010833   \n",
       "tenure                               1.000000  0.030573           -0.014913   \n",
       "postcode                             0.030573  1.000000           -0.496725   \n",
       "property_valuation                  -0.014913 -0.496725            1.000000   \n",
       "Rank                                 0.005546 -0.050190            0.016385   \n",
       "Value                               -0.012257  0.055851           -0.014700   \n",
       "\n",
       "                                         Rank     Value  \n",
       "past_3_years_bike_related_purchases -0.004392  0.004884  \n",
       "tenure                               0.005546 -0.012257  \n",
       "postcode                            -0.050190  0.055851  \n",
       "property_valuation                   0.016385 -0.014700  \n",
       "Rank                                 1.000000 -0.984093  \n",
       "Value                               -0.984093  1.000000  "
      ]
     },
     "execution_count": 13,
     "metadata": {},
     "output_type": "execute_result"
    }
   ],
   "source": [
    "df_new_customer.corr()"
   ]
  },
  {
   "cell_type": "code",
   "execution_count": null,
   "metadata": {},
   "outputs": [],
   "source": []
  },
  {
   "cell_type": "code",
   "execution_count": null,
   "metadata": {},
   "outputs": [],
   "source": []
  },
  {
   "cell_type": "code",
   "execution_count": null,
   "metadata": {},
   "outputs": [],
   "source": []
  },
  {
   "cell_type": "code",
   "execution_count": null,
   "metadata": {},
   "outputs": [],
   "source": []
  },
  {
   "cell_type": "code",
   "execution_count": null,
   "metadata": {},
   "outputs": [],
   "source": []
  }
 ],
 "metadata": {
  "kernelspec": {
   "display_name": "Python 3",
   "language": "python",
   "name": "python3"
  },
  "language_info": {
   "codemirror_mode": {
    "name": "ipython",
    "version": 3
   },
   "file_extension": ".py",
   "mimetype": "text/x-python",
   "name": "python",
   "nbconvert_exporter": "python",
   "pygments_lexer": "ipython3",
   "version": "3.7.4"
  }
 },
 "nbformat": 4,
 "nbformat_minor": 2
}
